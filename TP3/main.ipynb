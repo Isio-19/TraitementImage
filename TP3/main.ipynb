{
 "cells": [
  {
   "cell_type": "markdown",
   "metadata": {},
   "source": [
    "# TP3 - Detection, segmentation et estimation de la pose des humains."
   ]
  },
  {
   "cell_type": "code",
   "execution_count": 4,
   "metadata": {},
   "outputs": [
    {
     "name": "stdout",
     "output_type": "stream",
     "text": [
      "\n",
      "image 1/1 /home/isio/TraitementImage/TP3/img/animal/animal1.jpeg: 576x640 1 bear, 112.1ms\n",
      "Speed: 4.1ms preprocess, 112.1ms inference, 0.7ms postprocess per image at shape (1, 3, 576, 640)\n",
      "ultralytics.engine.results.Results object with attributes:\n",
      "\n",
      "boxes: ultralytics.engine.results.Boxes object\n",
      "keypoints: None\n",
      "masks: None\n",
      "names: {0: 'person', 1: 'bicycle', 2: 'car', 3: 'motorcycle', 4: 'airplane', 5: 'bus', 6: 'train', 7: 'truck', 8: 'boat', 9: 'traffic light', 10: 'fire hydrant', 11: 'stop sign', 12: 'parking meter', 13: 'bench', 14: 'bird', 15: 'cat', 16: 'dog', 17: 'horse', 18: 'sheep', 19: 'cow', 20: 'elephant', 21: 'bear', 22: 'zebra', 23: 'giraffe', 24: 'backpack', 25: 'umbrella', 26: 'handbag', 27: 'tie', 28: 'suitcase', 29: 'frisbee', 30: 'skis', 31: 'snowboard', 32: 'sports ball', 33: 'kite', 34: 'baseball bat', 35: 'baseball glove', 36: 'skateboard', 37: 'surfboard', 38: 'tennis racket', 39: 'bottle', 40: 'wine glass', 41: 'cup', 42: 'fork', 43: 'knife', 44: 'spoon', 45: 'bowl', 46: 'banana', 47: 'apple', 48: 'sandwich', 49: 'orange', 50: 'broccoli', 51: 'carrot', 52: 'hot dog', 53: 'pizza', 54: 'donut', 55: 'cake', 56: 'chair', 57: 'couch', 58: 'potted plant', 59: 'bed', 60: 'dining table', 61: 'toilet', 62: 'tv', 63: 'laptop', 64: 'mouse', 65: 'remote', 66: 'keyboard', 67: 'cell phone', 68: 'microwave', 69: 'oven', 70: 'toaster', 71: 'sink', 72: 'refrigerator', 73: 'book', 74: 'clock', 75: 'vase', 76: 'scissors', 77: 'teddy bear', 78: 'hair drier', 79: 'toothbrush'}\n",
      "obb: None\n",
      "orig_img: array([[[ 86, 128,  97],\n",
      "        [ 85, 127,  96],\n",
      "        [ 84, 126,  95],\n",
      "        ...,\n",
      "        [ 61, 143,  84],\n",
      "        [ 61, 143,  84],\n",
      "        [ 61, 143,  84]],\n",
      "\n",
      "       [[ 86, 128,  97],\n",
      "        [ 85, 127,  96],\n",
      "        [ 83, 125,  94],\n",
      "        ...,\n",
      "        [ 60, 142,  83],\n",
      "        [ 61, 143,  84],\n",
      "        [ 61, 143,  84]],\n",
      "\n",
      "       [[ 85, 127,  96],\n",
      "        [ 84, 126,  95],\n",
      "        [ 83, 125,  94],\n",
      "        ...,\n",
      "        [ 58, 142,  83],\n",
      "        [ 59, 143,  84],\n",
      "        [ 59, 143,  84]],\n",
      "\n",
      "       ...,\n",
      "\n",
      "       [[ 96, 115, 122],\n",
      "        [ 71,  95,  95],\n",
      "        [ 72,  99,  89],\n",
      "        ...,\n",
      "        [ 56,  72, 108],\n",
      "        [ 60,  74, 116],\n",
      "        [ 92, 108, 151]],\n",
      "\n",
      "       [[123, 145, 156],\n",
      "        [ 76,  98, 103],\n",
      "        [ 85, 108, 103],\n",
      "        ...,\n",
      "        [ 16,  33,  72],\n",
      "        [  2,  17,  63],\n",
      "        [ 31,  45,  93]],\n",
      "\n",
      "       [[106, 135, 149],\n",
      "        [122, 150, 157],\n",
      "        [171, 197, 191],\n",
      "        ...,\n",
      "        [ 20,  35,  74],\n",
      "        [  1,  14,  60],\n",
      "        [ 12,  23,  73]]], dtype=uint8)\n",
      "orig_shape: (439, 500)\n",
      "path: '/home/isio/TraitementImage/TP3/img/animal/animal1.jpeg'\n",
      "probs: None\n",
      "save_dir: 'runs/detect/predict'\n",
      "speed: {'preprocess': 4.07099723815918, 'inference': 112.09845542907715, 'postprocess': 0.7326602935791016}\n"
     ]
    }
   ],
   "source": [
    "from ultralytics import YOLO\n",
    "\n",
    "model = YOLO(\"yolo11n.pt\")\n",
    "results = model(\"img/animal/animal1.jpeg\")\n",
    "results[0].show()\n"
   ]
  }
 ],
 "metadata": {
  "kernelspec": {
   "display_name": "Python 3",
   "language": "python",
   "name": "python3"
  },
  "language_info": {
   "codemirror_mode": {
    "name": "ipython",
    "version": 3
   },
   "file_extension": ".py",
   "mimetype": "text/x-python",
   "name": "python",
   "nbconvert_exporter": "python",
   "pygments_lexer": "ipython3",
   "version": "3.10.12"
  }
 },
 "nbformat": 4,
 "nbformat_minor": 2
}
